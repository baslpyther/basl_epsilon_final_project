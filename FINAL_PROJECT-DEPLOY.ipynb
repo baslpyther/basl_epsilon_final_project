{
 "cells": [
  {
   "cell_type": "code",
   "execution_count": 13,
   "metadata": {},
   "outputs": [],
   "source": [
    "import joblib"
   ]
  },
  {
   "cell_type": "code",
   "execution_count": 20,
   "metadata": {},
   "outputs": [],
   "source": [
    "inputs = joblib.load(\"inputs3.pkl\")"
   ]
  },
  {
   "cell_type": "code",
   "execution_count": 21,
   "metadata": {},
   "outputs": [
    {
     "data": {
      "text/plain": [
       "Index(['Baths', 'Beds', 'Dining Room', 'Laundry Room', 'Store Rooms',\n",
       "       'Kitchens', 'Drawing Room', 'Gym', 'Powder Room', 'Steam Room',\n",
       "       'Prayer Rooms', 'lounge', 'additional rooms', 'area_squared_meter',\n",
       "       'Total Rooms', 'total amenity rooms', 'total regular rooms'],\n",
       "      dtype='object')"
      ]
     },
     "execution_count": 21,
     "metadata": {},
     "output_type": "execute_result"
    }
   ],
   "source": [
    "inputs"
   ]
  },
  {
   "cell_type": "code",
   "execution_count": 35,
   "metadata": {},
   "outputs": [],
   "source": [
    "import streamlit as st"
   ]
  },
  {
   "cell_type": "code",
   "execution_count": null,
   "metadata": {},
   "outputs": [],
   "source": [
    "st.title()"
   ]
  },
  {
   "cell_type": "code",
   "execution_count": 45,
   "metadata": {},
   "outputs": [
    {
     "name": "stdout",
     "output_type": "stream",
     "text": [
      "Overwriting FINAL_PROJECT_DEPLOYMENT.py\n"
     ]
    }
   ],
   "source": [
    "%%writefile FINAL_PROJECT_DEPLOYMENT.py\n",
    "import streamlit as st\n",
    "import pandas as pd\n",
    "import joblib\n",
    "import sklearn\n",
    "\n",
    "model = joblib.load(\"Model.pkl\")\n",
    "inputs = joblib.load(\"inputs3.pkl\")\n",
    "\n",
    "def prediction(Baths, Beds, Dining_Room, Laundry_Room, Store_Rooms, Kitchens, Drawing_Room, Gym, Powder_Room, Steam_Room, Prayer_Rooms, lounge, additional_rooms, area_squared_meter, Total_Rooms, total_amenity_rooms, total_regular_rooms):\n",
    "    df = pd.DataFrame(columns=inputs)\n",
    "    df.at[0, \"Baths\"] = Baths\n",
    "    df.at[0, \"Beds\"] = Beds\n",
    "    df.at[0, \"Dining Room\"] = Dining_Room\n",
    "    df.at[0, \"Laundry Room\"] = Laundry_Room\n",
    "    df.at[0, \"Store Rooms\"] = Store_Rooms\n",
    "    df.at[0, \"Kitchens\"] = Kitchens\n",
    "    df.at[0, \"Drawing Room\"] = Drawing_Room\n",
    "    df.at[0, \"Gym\"] = Gym\n",
    "    df.at[0, \"Powder Room\"] = Powder_Room\n",
    "    df.at[0, \"Steam Room\"] = Steam_Room\n",
    "    df.at[0, \"Prayer Rooms\"] = Prayer_Rooms\n",
    "    df.at[0, \"lounge\"] = lounge\n",
    "    df.at[0, \"additional rooms\"] = additional_rooms\n",
    "    df.at[0, \"area_squared_meter\"] = area_squared_meter\n",
    "    df.at[0, \"Total Rooms\"] = Total_Rooms\n",
    "    df.at[0, \"total amenity rooms\"] = total_amenity_rooms\n",
    "    df.at[0, \"total regular rooms\"] = total_regular_rooms\n",
    "    result = model.predict(df)\n",
    "    return result[0]\n",
    "\n",
    "\n",
    "\n",
    "def main():\n",
    "    st.title(\"HOUSE PRICE PREDICTION MODEL\")\n",
    "    Baths = st.slider(\"Baths\",min_value= 1.0, max_value = 10.0 , value = 2.0 , step =1.0)\n",
    "    Beds = st.slider(\"Beds\",min_value= 1.0, max_value = 25.0 , value = 2.0 , step =1.0)\n",
    "    Dining_Room = st.slider(\"Dining Room\",min_value= 0, max_value = 1 , value = 0 , step =1)\n",
    "    Laundry_Room = st.slider(\"Laundry Room\",min_value= 0, max_value = 1 , value = 0 , step =1)\n",
    "    Store_Rooms = st.slider(\"Store Rooms\",min_value= 0, max_value = 22 , value = 2 , step =1)\n",
    "    Kitchens = st.slider(\"Kitchens\",min_value= 0.0, max_value = 20.0 , value = 2.0 , step =1.0)\n",
    "    Drawing_Room = st.slider(\"Drawing Room\",min_value= 0.0, max_value = 1.0 , step =1.0)\n",
    "    Gym = st.slider(\"Gym\", min_value=0.0, max_value=1.0, step=1.0)\n",
    "    Powder_Room = st.slider(\"Powder Room\",min_value= 0.0, max_value = 1.0  , step =1.0)\n",
    "    Steam_Room = st.slider(\"Steam Room\",min_value= 0.0, max_value = 1.0  , step =1.0)\n",
    "    Prayer_Rooms = st.slider(\"Prayer Rooms\",min_value= 0.0, max_value = 1.0  , step =1.0)\n",
    "    lounge = st.slider(\"lounge\",min_value= 0.0, max_value = 1.0  , step =1.0)\n",
    "    additional_rooms = st.slider(\"additional rooms\",min_value= 0.0, max_value = 1.0 , step =1.0)\n",
    "    area_squared_meter = st.slider(\"area_squared_meter\",min_value= 30.0, max_value = 500.0 , value = 2.0 , step =0.25)\n",
    "    Total_Rooms = st.slider(\"Total Rooms\",min_value= 2.0, max_value = 37.0 , value = 2.0 , step =1.0)\n",
    "    total_amenity_rooms = st.slider(\"Total Amenity Rooms\", min_value=0.0, max_value=6.0, step=1.0)\n",
    "    total_regular_rooms = st.slider(\"total regular rooms\",min_value= 2.0, max_value = 37.0 , value = 2.0 , step =1.0)\n",
    "\n",
    "    if st.button(\"predict\"):\n",
    "        result = prediction(Baths, Beds, Dining_Room, Laundry_Room, Store_Rooms, Kitchens, Drawing_Room, Gym, Powder_Room, Steam_Room, Prayer_Rooms, lounge, additional_rooms, area_squared_meter, Total_Rooms, total_amenity_rooms, total_regular_rooms)\n",
    "        st.text(f\"Predicted Price: ${result:,.2f}\")\n",
    "main()"
   ]
  },
  {
   "cell_type": "code",
   "execution_count": null,
   "metadata": {},
   "outputs": [],
   "source": []
  }
 ],
 "metadata": {
  "kernelspec": {
   "display_name": "Python 3",
   "language": "python",
   "name": "python3"
  },
  "language_info": {
   "codemirror_mode": {
    "name": "ipython",
    "version": 3
   },
   "file_extension": ".py",
   "mimetype": "text/x-python",
   "name": "python",
   "nbconvert_exporter": "python",
   "pygments_lexer": "ipython3",
   "version": "3.7.6"
  }
 },
 "nbformat": 4,
 "nbformat_minor": 4
}
